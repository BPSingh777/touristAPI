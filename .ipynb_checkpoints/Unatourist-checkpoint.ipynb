{
  "nbformat": 4,
  "nbformat_minor": 0,
  "metadata": {
    "colab": {
      "provenance": []
    },
    "kernelspec": {
      "name": "python3",
      "display_name": "Python 3"
    },
    "language_info": {
      "name": "python"
    }
  },
  "cells": [
    {
      "cell_type": "code",
      "execution_count": null,
      "metadata": {
        "colab": {
          "base_uri": "https://localhost:8080/"
        },
        "id": "iBU5G65NZ3jW",
        "outputId": "7313d8b9-2b2a-4944-fe42-0bcc695fa3b6"
      },
      "outputs": [
        {
          "output_type": "stream",
          "name": "stdout",
          "text": [
            "Enter your preferred theme: Religious Sites\n",
            "Enter your preferred rating (0-5): 1\n",
            "Enter the number of days you plan to travel: 1\n",
            "Enter your current latitude: 31.62674119\n",
            "Enter your current longitude: 76.37520166\n",
            "Recommended Destinations (Content-Based Filtering):\n",
            "                     Places            Theme  Rating\n",
            "4                Pir Nigaha  Religious Sites     4.5\n",
            "1       Sheetla Devi Temple  Religious Sites     4.6\n",
            "8     Banode Mahadev Mandir  Religious Sites     4.5\n",
            "3  Dera Baba Bharbhag Singh  Religious Sites     4.0\n",
            "0         Chintpurni Temple  Religious Sites     4.8\n",
            "2     Baba Rudranand Ashram  Religious Sites     4.0\n",
            "7    Baba Garib Nath Mandir  Religious Sites     4.3\n",
            "9      Kila Baba Bedi Sahib  Religious Sites     3.0\n",
            "5                Shiva Bari  Religious Sites     3.0\n"
          ]
        }
      ],
      "source": [
        "import pandas as pd\n",
        "from sklearn.preprocessing import MinMaxScaler\n",
        "from sklearn.metrics.pairwise import haversine_distances\n",
        "from geopy.distance import great_circle\n",
        "\n",
        "# Load the dataset\n",
        "data = pd.read_csv('/content/unatourist.csv')\n",
        "\n",
        "# User input\n",
        "user_theme = input(\"Enter your preferred theme: \")\n",
        "user_rating = float(input(\"Enter your preferred rating (0-5): \"))\n",
        "user_days = int(input(\"Enter the number of days you plan to travel: \"))\n",
        "user_latitude = float(input(\"Enter your current latitude: \"))\n",
        "user_longitude = float(input(\"Enter your current longitude: \"))\n",
        "\n",
        "# Calculate a user profile based on preferences\n",
        "user_profile = {\n",
        "    'theme': user_theme,\n",
        "    'rating': user_rating,\n",
        "    'days': user_days\n",
        "}\n",
        "\n",
        "# Calculate distances between user location and destinations\n",
        "user_location = (user_latitude, user_longitude)\n",
        "data['distance'] = data.apply(\n",
        "    lambda row: great_circle(user_location, (row['Latitude'], row['Longitude'])).miles,\n",
        "    axis=1\n",
        ")\n",
        "\n",
        "# Normalize the distance and rating for scoring\n",
        "scaler = MinMaxScaler()\n",
        "data['normalized_distance'] = scaler.fit_transform(data[['distance']])\n",
        "data['normalized_rating'] = scaler.fit_transform(data[['Rating']])\n",
        "\n",
        "# Calculate a composite score for each destination based on content attributes\n",
        "data['content_score'] = 0.6 * data['normalized_rating'] + 0.4 * (1 - data['normalized_distance'])\n",
        "\n",
        "# Filter destinations based on content attributes\n",
        "filtered_data = data[(data['Theme'] == user_profile['theme']) &\n",
        "                     (data['Rating'] >= user_profile['rating'])]\n",
        "\n",
        "# Sort destinations by content-based score in descending order\n",
        "recommended_destinations = filtered_data.sort_values(by='content_score', ascending=False)\n",
        "\n",
        "# Print recommended destinations\n",
        "print(\"Recommended Destinations (Content-Based Filtering):\")\n",
        "print(recommended_destinations[['Places','Theme','Rating']])\n",
        "\n",
        "import pickle\n",
        "filename = 'una_tourist.sav'\n",
        "pickle.dump(recommended_destinations,open(filename,'wb'))\n",
        "loaded_model=pickle.load(open('una_tourist.sav','rb'))\n",
        "\n",
        "\n",
        "\n",
        "\n"
      ]
    }
  ]
}